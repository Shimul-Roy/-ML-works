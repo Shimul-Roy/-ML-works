{
 "cells": [
  {
   "cell_type": "code",
   "execution_count": 27,
   "id": "c731bb2f",
   "metadata": {},
   "outputs": [],
   "source": [
    "import numpy as np\n",
    "import pandas as pd"
   ]
  },
  {
   "cell_type": "code",
   "execution_count": 28,
   "id": "2aacf621",
   "metadata": {},
   "outputs": [
    {
     "data": {
      "text/plain": [
       "[[2, 3], [4, 5], [5, 6]]"
      ]
     },
     "execution_count": 28,
     "metadata": {},
     "output_type": "execute_result"
    }
   ],
   "source": [
    "l=[[2,3],[4,5],[5,6]]\n",
    "l"
   ]
  },
  {
   "cell_type": "code",
   "execution_count": 29,
   "id": "982ab2cd",
   "metadata": {},
   "outputs": [],
   "source": [
    "np.arr=np.array(l)"
   ]
  },
  {
   "cell_type": "code",
   "execution_count": 30,
   "id": "8f248717",
   "metadata": {},
   "outputs": [
    {
     "data": {
      "text/plain": [
       "array([[2, 3],\n",
       "       [4, 5],\n",
       "       [5, 6]])"
      ]
     },
     "execution_count": 30,
     "metadata": {},
     "output_type": "execute_result"
    }
   ],
   "source": [
    "np.arr"
   ]
  },
  {
   "cell_type": "code",
   "execution_count": 31,
   "id": "75022dc4",
   "metadata": {},
   "outputs": [
    {
     "data": {
      "text/plain": [
       "(list, numpy.ndarray)"
      ]
     },
     "execution_count": 31,
     "metadata": {},
     "output_type": "execute_result"
    }
   ],
   "source": [
    "type(l),type(np.arr)"
   ]
  },
  {
   "cell_type": "code",
   "execution_count": 32,
   "id": "24f59cb4",
   "metadata": {},
   "outputs": [],
   "source": [
    "li1=[1,2,5,7]\n",
    "li2=[5,2,5,7]\n",
    "li3=[3,8,5,7]\n",
    "# li4=[6,2,9,7]"
   ]
  },
  {
   "cell_type": "code",
   "execution_count": 33,
   "id": "a58940ac",
   "metadata": {},
   "outputs": [
    {
     "data": {
      "text/plain": [
       "array([[1, 2, 5, 7],\n",
       "       [5, 2, 5, 7],\n",
       "       [3, 8, 5, 7]])"
      ]
     },
     "execution_count": 33,
     "metadata": {},
     "output_type": "execute_result"
    }
   ],
   "source": [
    "marged=np.array([li1,li2,li3])\n",
    "marged"
   ]
  },
  {
   "cell_type": "code",
   "execution_count": 34,
   "id": "bff57481",
   "metadata": {},
   "outputs": [
    {
     "data": {
      "text/plain": [
       "(3, 4)"
      ]
     },
     "execution_count": 34,
     "metadata": {},
     "output_type": "execute_result"
    }
   ],
   "source": [
    "marged.shape"
   ]
  },
  {
   "cell_type": "code",
   "execution_count": 37,
   "id": "7637f4f4",
   "metadata": {},
   "outputs": [
    {
     "data": {
      "text/plain": [
       "3"
      ]
     },
     "execution_count": 37,
     "metadata": {},
     "output_type": "execute_result"
    }
   ],
   "source": [
    "marged[2][0]"
   ]
  },
  {
   "cell_type": "code",
   "execution_count": null,
   "id": "ed6d9449",
   "metadata": {},
   "outputs": [],
   "source": []
  }
 ],
 "metadata": {
  "kernelspec": {
   "display_name": "Python 3 (ipykernel)",
   "language": "python",
   "name": "python3"
  },
  "language_info": {
   "codemirror_mode": {
    "name": "ipython",
    "version": 3
   },
   "file_extension": ".py",
   "mimetype": "text/x-python",
   "name": "python",
   "nbconvert_exporter": "python",
   "pygments_lexer": "ipython3",
   "version": "3.11.4"
  }
 },
 "nbformat": 4,
 "nbformat_minor": 5
}
