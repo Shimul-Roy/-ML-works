{
 "cells": [
  {
   "cell_type": "code",
   "execution_count": 110,
   "id": "49180348-5c89-4eaf-8746-1f6aa901fdda",
   "metadata": {},
   "outputs": [],
   "source": [
    "import numpy as np\n",
    "import matplotlib.pyplot as plt\n",
    "%matplotlib inline"
   ]
  },
  {
   "cell_type": "code",
   "execution_count": 111,
   "id": "6f6ae89b-1f5a-4d7d-839e-bfee45c471a6",
   "metadata": {},
   "outputs": [],
   "source": [
    "##define dataset"
   ]
  },
  {
   "cell_type": "code",
   "execution_count": 112,
   "id": "051b6d81-d051-4faf-a59a-e10d927d9b34",
   "metadata": {},
   "outputs": [
    {
     "data": {
      "text/plain": [
       "(array([23.,  0.,  0.,  0.,  0.,  0.,  0.,  0.,  1.,  2.]),\n",
       " array([ 10. ,  21.8,  33.6,  45.4,  57.2,  69. ,  80.8,  92.6, 104.4,\n",
       "        116.2, 128. ]),\n",
       " <BarContainer object of 10 artists>)"
      ]
     },
     "execution_count": 112,
     "metadata": {},
     "output_type": "execute_result"
    },
    {
     "data": {
      "image/png": "[encoded data removed]",
      "text/plain": [
       "<Figure size 640x480 with 1 Axes>"
      ]
     },
     "metadata": {},
     "output_type": "display_data"
    }
   ],
   "source": [
    "dataset=[12,14,13,15,14,12,14,13,16,13,13,15,16,14,15,12,13,10,12,16,13,14,108,15,127,128]\n",
    "plt.hist(dataset)"
   ]
  },
  {
   "cell_type": "code",
   "execution_count": 113,
   "id": "ebfba74e-9426-4f81-b88f-f60440270d85",
   "metadata": {},
   "outputs": [],
   "source": [
    "##Z-score"
   ]
  },
  {
   "cell_type": "code",
   "execution_count": 114,
   "id": "4f361192-0ffd-4630-bece-5003618fd7df",
   "metadata": {},
   "outputs": [],
   "source": [
    "outlier=[]\n",
    "\n",
    "def detect_outlier(data):\n",
    "    threshold=3   ##3 stranderd deviation\n",
    "    mean=np.mean(data)\n",
    "    std=np.std(data)\n",
    "    for i in data:\n",
    "        z_score=(i-mean)/std\n",
    "        if np.abs(z_score)>threshold:\n",
    "            outlier.append(i)\n",
    "    return outlier"
   ]
  },
  {
   "cell_type": "code",
   "execution_count": 115,
   "id": "e26d3c3e-7e32-4ced-b131-28645d7892db",
   "metadata": {},
   "outputs": [
    {
     "data": {
      "text/plain": [
       "[]"
      ]
     },
     "execution_count": 115,
     "metadata": {},
     "output_type": "execute_result"
    }
   ],
   "source": [
    "detect_outlier(dataset)"
   ]
  },
  {
   "cell_type": "code",
   "execution_count": 116,
   "id": "f625f88a-d389-469b-9a82-96e890be6543",
   "metadata": {},
   "outputs": [],
   "source": [
    "#IQR = inter quertaile range find lower frame and higher frame\n",
    "# 1.sort  the data\n",
    "#2.cal q1 and q3\n",
    "#3. IQR(q3-q1)\n",
    "#4. find lower fence\n",
    "#5. find upper fence"
   ]
  },
  {
   "cell_type": "code",
   "execution_count": 117,
   "id": "75ef86da-2eea-42e6-85f3-06e2e6953af2",
   "metadata": {},
   "outputs": [
    {
     "data": {
      "text/plain": [
       "[10,\n",
       " 12,\n",
       " 12,\n",
       " 12,\n",
       " 12,\n",
       " 13,\n",
       " 13,\n",
       " 13,\n",
       " 13,\n",
       " 13,\n",
       " 13,\n",
       " 14,\n",
       " 14,\n",
       " 14,\n",
       " 14,\n",
       " 14,\n",
       " 15,\n",
       " 15,\n",
       " 15,\n",
       " 15,\n",
       " 16,\n",
       " 16,\n",
       " 16,\n",
       " 108,\n",
       " 127,\n",
       " 128]"
      ]
     },
     "execution_count": 117,
     "metadata": {},
     "output_type": "execute_result"
    }
   ],
   "source": [
    "dataset=sorted(dataset)\n",
    "dataset"
   ]
  },
  {
   "cell_type": "code",
   "execution_count": 118,
   "id": "e9c478b6-b813-4158-8ceb-4a1d24dccb16",
   "metadata": {},
   "outputs": [
    {
     "name": "stdout",
     "output_type": "stream",
     "text": [
      "13.0 15.0\n"
     ]
    }
   ],
   "source": [
    "q1,q3=np.percentile(dataset,[25,75])\n",
    "print(q1,q3)"
   ]
  },
  {
   "cell_type": "code",
   "execution_count": 120,
   "id": "35380d9d-248c-4b7c-965c-f02956a56a5f",
   "metadata": {},
   "outputs": [],
   "source": [
    "import seaborn as sns"
   ]
  },
  {
   "cell_type": "code",
   "execution_count": 121,
   "id": "f2683fb9-b35e-4559-ac17-5b5ff2bc6aaf",
   "metadata": {},
   "outputs": [
    {
     "data": {
      "text/plain": [
       "<Axes: >"
      ]
     },
     "execution_count": 121,
     "metadata": {},
     "output_type": "execute_result"
    },
    {
     "data": {
      "image/png": "[encoded data removed]",
      "text/plain": [
       "<Figure size 640x480 with 1 Axes>"
      ]
     },
     "metadata": {},
     "output_type": "display_data"
    }
   ],
   "source": [
    "sns.boxplot(dataset)"
   ]
  },
  {
   "cell_type": "code",
   "execution_count": null,
   "id": "00cabbc5-38af-439d-a0e2-595cf0c15e5d",
   "metadata": {},
   "outputs": [],
   "source": []
  }
 ],
 "metadata": {
  "kernelspec": {
   "display_name": "Python 3 (ipykernel)",
   "language": "python",
   "name": "python3"
  },
  "language_info": {
   "codemirror_mode": {
    "name": "ipython",
    "version": 3
   },
   "file_extension": ".py",
   "mimetype": "text/x-python",
   "name": "python",
   "nbconvert_exporter": "python",
   "pygments_lexer": "ipython3",
   "version": "3.11.4"
  }
 },
 "nbformat": 4,
 "nbformat_minor": 5
}
